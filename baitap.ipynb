{
  "nbformat": 4,
  "nbformat_minor": 0,
  "metadata": {
    "colab": {
      "name": "baitap.ipynb",
      "provenance": [],
      "authorship_tag": "ABX9TyM00v32gbOOej4YTITwpYg4",
      "include_colab_link": true
    },
    "kernelspec": {
      "name": "python3",
      "display_name": "Python 3"
    },
    "language_info": {
      "name": "python"
    }
  },
  "cells": [
    {
      "cell_type": "markdown",
      "metadata": {
        "id": "view-in-github",
        "colab_type": "text"
      },
      "source": [
        "<a href=\"https://colab.research.google.com/github/viett887g/baitap11/blob/main/baitap.ipynb\" target=\"_parent\"><img src=\"https://colab.research.google.com/assets/colab-badge.svg\" alt=\"Open In Colab\"/></a>"
      ]
    },
    {
      "cell_type": "code",
      "metadata": {
        "id": "5uIfMl2f2Nlz"
      },
      "source": [
        "1: Viết chương trình tìm tất cả các số chia hết cho 7 nhưng không phải bội số của 5, nằm trong\n",
        "đoạn 10 và 200 (tính cả 10 và 200). Các số thu được sẽ được in ra màn hình."
      ],
      "execution_count": null,
      "outputs": []
    },
    {
      "cell_type": "code",
      "metadata": {
        "colab": {
          "base_uri": "https://localhost:8080/"
        },
        "id": "p6Nt29dY1L-g",
        "outputId": "0d66e0b7-08a8-4778-9ab4-b965142b6844"
      },
      "source": [
        "for i in range(10,200):\n",
        "    if(i%7==0) and (i%5!=0):\n",
        "      print(i)"
      ],
      "execution_count": null,
      "outputs": [
        {
          "output_type": "stream",
          "name": "stdout",
          "text": [
            "14\n",
            "21\n",
            "28\n",
            "42\n",
            "49\n",
            "56\n",
            "63\n",
            "77\n",
            "84\n",
            "91\n",
            "98\n",
            "112\n",
            "119\n",
            "126\n",
            "133\n",
            "147\n",
            "154\n",
            "161\n",
            "168\n",
            "182\n",
            "189\n",
            "196\n"
          ]
        }
      ]
    },
    {
      "cell_type": "code",
      "metadata": {
        "id": "LpXTSqU42PzD"
      },
      "source": [
        "Viết một chương trình tính giai thừa của một số nguyên dương n. Với n được nhập từ bàn\n",
        "phím. Ví dụ, n = 8 thì kết quả đầu ra phải là 1*2*3*4*5*6*7*8 = 40320."
      ],
      "execution_count": null,
      "outputs": []
    },
    {
      "cell_type": "code",
      "metadata": {
        "colab": {
          "base_uri": "https://localhost:8080/"
        },
        "id": "eMHykbHD3yMs",
        "outputId": "063daba4-f4cb-4efd-fb29-0983f7f110e6"
      },
      "source": [
        "n = int(input(\"nhap vao 1 so: \"))\n",
        " \n",
        "def giaiThua(n):\n",
        "    if n == 0:\n",
        "        return 1\n",
        "    return n * giaiThua(n - 1)\n",
        " \n",
        "print (giaiThua(n))"
      ],
      "execution_count": null,
      "outputs": [
        {
          "output_type": "stream",
          "name": "stdout",
          "text": [
            "nhap vao 1 so: 6\n",
            "720\n"
          ]
        }
      ]
    },
    {
      "cell_type": "code",
      "metadata": {
        "id": "2fQdm1lu2TGn"
      },
      "source": [
        "Viết chương trình liệt kê tất cả các số nguyên tố nhỏ hơn n. Số nguyên dương n được nhập\n",
        "từ bàn phím."
      ],
      "execution_count": null,
      "outputs": []
    },
    {
      "cell_type": "code",
      "metadata": {
        "colab": {
          "base_uri": "https://localhost:8080/",
          "height": 132
        },
        "id": "NYa7T6j45wuP",
        "outputId": "b94e94c7-1673-476a-a8cc-6275afc310ca"
      },
      "source": [
        "for i in range(1,n):\n",
        "  while (n>1):\n",
        "    return n;\n",
        "\n",
        "\n",
        "n = int(input(\"Nhập vao số nguyên\"));\n",
        "print(i)"
      ],
      "execution_count": null,
      "outputs": [
        {
          "output_type": "error",
          "ename": "SyntaxError",
          "evalue": "ignored",
          "traceback": [
            "\u001b[0;36m  File \u001b[0;32m\"<ipython-input-60-917eaee307a7>\"\u001b[0;36m, line \u001b[0;32m3\u001b[0m\n\u001b[0;31m    return n;\u001b[0m\n\u001b[0m    ^\u001b[0m\n\u001b[0;31mSyntaxError\u001b[0m\u001b[0;31m:\u001b[0m 'return' outside function\n"
          ]
        }
      ]
    },
    {
      "cell_type": "code",
      "metadata": {
        "id": "-PBElQGK2ZIg"
      },
      "source": [
        "7: Viết chương trình tính tổng của các chữ số của môt số nguyên n. Số nguyên dương n được\n",
        "nhập từ bàn phím. Ví dụ: n = 1234, tổng các chữ số: 1 + 2 + 3 + 4 = 10"
      ],
      "execution_count": null,
      "outputs": []
    },
    {
      "cell_type": "code",
      "metadata": {
        "colab": {
          "base_uri": "https://localhost:8080/"
        },
        "id": "4Cbb2Z9g_R1O",
        "outputId": "b502476a-ac99-4539-e4be-e76866dd71c0"
      },
      "source": [
        "def songuyen(n):\n",
        "    a= 0;\n",
        "    while (n > 0):\n",
        "        a = a + n % 10;\n",
        "        n =(n // 10);\n",
        "    return a;\n",
        "\n",
        "n = int(input(\"Nhập số nguyên dương n = \"));\n",
        "print(\"Tổng các chữ số của\", n , \"là\", songuyen(n));\n",
        "\n"
      ],
      "execution_count": null,
      "outputs": [
        {
          "output_type": "stream",
          "name": "stdout",
          "text": [
            "Nhập số nguyên dương n = 12345\n",
            "Tổng các chữ số của 12345 là 15\n"
          ]
        }
      ]
    },
    {
      "cell_type": "code",
      "metadata": {
        "id": "TP93hSsfgYtn"
      },
      "source": [
        "Viết chương trình liệt kê tất cả các số nguyên tố nhỏ hơn n. Số nguyên dương n được nhập\n",
        "từ bàn phím."
      ],
      "execution_count": null,
      "outputs": []
    },
    {
      "cell_type": "code",
      "metadata": {
        "colab": {
          "base_uri": "https://localhost:8080/"
        },
        "id": "zYCYxeI0lBLw",
        "outputId": "c8d2c836-6863-4608-e208-a3a8c73d44af"
      },
      "source": [
        "n = int(input(\"Nhập số nguyên dương n = \"));\n",
        "print (\"Tất cả các số nguyên tố nhỏ hơn\", n, \"là:\");\n",
        "a = \"\";\n",
        "if (n >= 2):\n",
        " for i in range (3, n):\n",
        "   a = str(i)\n",
        "   print(a)\n",
        "       "
      ],
      "execution_count": 35,
      "outputs": [
        {
          "output_type": "stream",
          "name": "stdout",
          "text": [
            "Nhập số nguyên dương n = 7\n",
            "Tất cả các số nguyên tố nhỏ hơn 7 là:\n",
            "3\n",
            "4\n",
            "5\n",
            "6\n"
          ]
        }
      ]
    },
    {
      "cell_type": "code",
      "metadata": {
        "id": "h2M9ogavnLoD"
      },
      "source": [
        ""
      ],
      "execution_count": null,
      "outputs": []
    }
  ]
}